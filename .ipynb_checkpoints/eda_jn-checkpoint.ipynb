{
 "cells": [
  {
   "cell_type": "code",
   "execution_count": 3,
   "metadata": {},
   "outputs": [],
   "source": [
    "import json\n",
    "import pandas as pd\n",
    "import numpy as np\n",
    "from os import listdir\n",
    "from os.path import isfile, join"
   ]
  },
  {
   "cell_type": "code",
   "execution_count": 4,
   "metadata": {},
   "outputs": [],
   "source": [
    "########################################################################################################################\n",
    "# ----- THIS CODE BLOCK READS IN NARRATIVE DATA JSON FILES THEN CREATES AND PICKLES NARRATIVE DATAFRAME\n",
    "# ----- RUN ONCE IF YOU DO NOT HAVE THE PICKLE YET THEN COMMENT OUT AFTER CREATING THE PICKLE\n",
    "\n",
    "# # ----- Get json file names for narrative data\n",
    "# narrative_file_names = [f for f in listdir('data/') if f.startswith('NarrativeData_') and isfile(join('data/', f))]\n",
    "#\n",
    "# # ----- Create narrative DataFrame from multiple json files\n",
    "# event_id = list()\n",
    "# narrative = list()\n",
    "# probable_cause = list()\n",
    "# for file in narrative_file_names:\n",
    "#     with open('data/' + file, mode='rt') as f:\n",
    "#         data = json.load(f)\n",
    "#         prep_event_id = [row['EventId'] for row in data['data']]\n",
    "#         prep_narrative = [row['narrative'] for row in data['data']]\n",
    "#         prep_probable_cause = [row['probable_cause'] for row in data['data']]\n",
    "#         event_id.extend(prep_event_id)\n",
    "#         narrative.extend(prep_narrative)\n",
    "#         probable_cause.extend(prep_probable_cause)\n",
    "# df_narrative = pd.DataFrame(\n",
    "#     {'EventId': event_id,\n",
    "#      'narrative': narrative,\n",
    "#      'probable_cause': probable_cause\n",
    "#     })\n",
    "#\n",
    "# # ----- Create pickle of narrative DataFrame\n",
    "# df_narrative.to_pickle('data/df_narrative.pkl')\n",
    "########################################################################################################################"
   ]
  },
  {
   "cell_type": "code",
   "execution_count": 5,
   "metadata": {},
   "outputs": [
    {
     "name": "stderr",
     "output_type": "stream",
     "text": [
      "/Users/rockychen/miniconda3/envs/rti/lib/python3.6/site-packages/ipykernel_launcher.py:5: ParserWarning: Falling back to the 'python' engine because the 'c' engine does not support regex separators (separators > 1 char and different from '\\s+' are interpreted as regex); you can avoid this warning by specifying engine='python'.\n",
      "  \"\"\"\n"
     ]
    }
   ],
   "source": [
    "# ----- Read in NarrativeData pickle\n",
    "df_narrative = pd.read_pickle('data/df_narrative.pkl')\n",
    "\n",
    "# ----- Read in AviationData download ; delimiter == ' | ' ; drop last column which is all blank\n",
    "df_aviation = pd.read_csv('data/AviationData.txt', sep=\" \\| {0,1}\", header=0).drop(['Unnamed: 31'], axis=1)\n",
    "df_aviation['Event Year Month'] = df_aviation['Event Date'].map(lambda x: x[6:10] + '-' + x[0:2])\n",
    "df_aviation['State'] = df_aviation['Location'].map(lambda x: str(x)[-2:])"
   ]
  },
  {
   "cell_type": "code",
   "execution_count": 7,
   "metadata": {},
   "outputs": [
    {
     "name": "stdout",
     "output_type": "stream",
     "text": [
      "(76133, 3)\n",
      "(83054, 33)\n"
     ]
    }
   ],
   "source": [
    "# ----- Get count of rows and columns\n",
    "print(df_narrative.shape)\n",
    "# 76133 examples ; 3 features\n",
    "\n",
    "print(df_aviation.shape)\n",
    "# 83,054 examples ; 31 original features ; 2 derived feature"
   ]
  },
  {
   "cell_type": "code",
   "execution_count": 10,
   "metadata": {},
   "outputs": [
    {
     "name": "stdout",
     "output_type": "stream",
     "text": [
      "           Latitude     Longitude  Number of Engines  Total Fatal Injuries  \\\n",
      "count  29113.000000  29104.000000       78361.000000          56780.000000   \n",
      "mean      37.560299    -93.533748           1.147063              0.837566   \n",
      "std       12.333181     39.489360           0.447003              6.254695   \n",
      "min      -78.016945   -178.676111           0.000000              0.000000   \n",
      "25%       33.320000   -114.922014           1.000000              0.000000   \n",
      "50%       38.131667    -94.371667           1.000000              0.000000   \n",
      "75%       42.525556    -81.651598           1.000000              1.000000   \n",
      "max       89.218056    177.557778           4.000000            349.000000   \n",
      "\n",
      "       Total Serious Injuries  Total Minor Injuries  Total Uninjured  \n",
      "count            54230.000000          55420.000000     69047.000000  \n",
      "mean                 0.328268              0.515211         5.867670  \n",
      "std                  1.374782              2.774529        29.433511  \n",
      "min                  0.000000              0.000000         0.000000  \n",
      "25%                  0.000000              0.000000         0.000000  \n",
      "50%                  0.000000              0.000000         1.000000  \n",
      "75%                  0.000000              1.000000         2.000000  \n",
      "max                111.000000            380.000000       699.000000  \n"
     ]
    }
   ],
   "source": [
    "print(df_aviation.describe())"
   ]
  },
  {
   "cell_type": "code",
   "execution_count": 11,
   "metadata": {},
   "outputs": [
    {
     "name": "stdout",
     "output_type": "stream",
     "text": [
      "               EventId narrative probable_cause\n",
      "count            76133     76133          76133\n",
      "unique           76133     75557          47435\n",
      "top     20120123X91012                         \n",
      "freq                 1       228          26344\n"
     ]
    }
   ],
   "source": [
    "print(df_narrative.describe())"
   ]
  },
  {
   "cell_type": "code",
   "execution_count": 8,
   "metadata": {},
   "outputs": [
    {
     "name": "stdout",
     "output_type": "stream",
     "text": [
      "EventId 0\n",
      "narrative 228\n",
      "probable_cause 26344\n",
      "Event Id 0\n",
      "Investigation Type 3\n",
      "Accident Number 0\n",
      "Event Date 0\n",
      "Location 77\n",
      "Country 507\n",
      "Latitude 53941\n",
      "Longitude 53950\n",
      "Airport Code 36042\n",
      "Airport Name 33295\n",
      "Injury Severity 0\n",
      "Aircraft Damage 2628\n",
      "Aircraft Category 56737\n",
      "Registration Number 3648\n",
      "Make 73\n",
      "Model 102\n",
      "Amateur Built 635\n",
      "Number of Engines 4693\n",
      "Engine Type 4016\n",
      "FAR Description 57070\n",
      "Schedule 71290\n",
      "Purpose of Flight 4633\n",
      "Air Carrier 78936\n",
      "Total Fatal Injuries 26274\n",
      "Total Serious Injuries 28824\n",
      "Total Minor Injuries 27634\n",
      "Total Uninjured 14007\n",
      "Weather Condition 2816\n",
      "Broad Phase of Flight 6566\n",
      "Report Status 0\n",
      "Publication Date 14086\n",
      "Event Year Month 0\n",
      "State 0\n"
     ]
    }
   ],
   "source": [
    "# ----- Get count of null or blank\n",
    "colnames_df_narrative = df_narrative.columns\n",
    "for col in colnames_df_narrative:\n",
    "    print(col, (df_narrative[col].values == \"\").sum())\n",
    "\n",
    "colnames_df_aviation = df_aviation.columns\n",
    "for col in colnames_df_aviation:\n",
    "    print(col, (df_aviation[col].isnull().sum()))"
   ]
  },
  {
   "cell_type": "code",
   "execution_count": 9,
   "metadata": {},
   "outputs": [],
   "source": [
    "df_aviation['Event Id'].nunique()\n",
    "# 81,841 so there are duplicates\n",
    "df_aviation['Investigation Type'].value_counts()\n",
    "# Accident: 79,690; Incident: 3,361\n",
    "df_aviation['Accident Number'].nunique()\n",
    "# 83,054 so all unique\n",
    "event_year_month = df_aviation['Event Year Month'].value_counts().sort_index()"
   ]
  },
  {
   "cell_type": "code",
   "execution_count": null,
   "metadata": {},
   "outputs": [],
   "source": []
  },
  {
   "cell_type": "code",
   "execution_count": null,
   "metadata": {},
   "outputs": [],
   "source": []
  },
  {
   "cell_type": "code",
   "execution_count": null,
   "metadata": {},
   "outputs": [],
   "source": []
  }
 ],
 "metadata": {
  "kernelspec": {
   "display_name": "Python rti",
   "language": "python",
   "name": "rti"
  },
  "language_info": {
   "codemirror_mode": {
    "name": "ipython",
    "version": 3
   },
   "file_extension": ".py",
   "mimetype": "text/x-python",
   "name": "python",
   "nbconvert_exporter": "python",
   "pygments_lexer": "ipython3",
   "version": "3.6.8"
  }
 },
 "nbformat": 4,
 "nbformat_minor": 2
}
